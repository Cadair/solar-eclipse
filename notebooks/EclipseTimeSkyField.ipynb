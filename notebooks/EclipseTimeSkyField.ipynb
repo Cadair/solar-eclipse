{
 "cells": [
  {
   "cell_type": "code",
   "execution_count": 7,
   "metadata": {
    "collapsed": true
   },
   "outputs": [],
   "source": [
    "import matplotlib as mpl\n",
    "%matplotlib inline\n",
    "mpl.rcParams['savefig.dpi'] = 300\n",
    "import matplotlib.pyplot as plt"
   ]
  },
  {
   "cell_type": "code",
   "execution_count": 2,
   "metadata": {
    "collapsed": true
   },
   "outputs": [],
   "source": [
    "import astropy.units as u\n",
    "from astropy.coordinates import SkyCoord, EarthLocation, AltAz\n",
    "from sunpy.coordinates import get_body_heliographic_stonyhurst"
   ]
  },
  {
   "cell_type": "code",
   "execution_count": 3,
   "metadata": {
    "collapsed": true
   },
   "outputs": [],
   "source": [
    "greenbelt = EarthLocation(lat='39d45m29s', lon='-94d50m12s')\n",
    "time = '2017-08-21 17:08'  # about one hour before eclipse at this location\n",
    "location_frame = AltAz(obstime=time, location=greenbelt)"
   ]
  },
  {
   "cell_type": "code",
   "execution_count": 4,
   "metadata": {
    "collapsed": true
   },
   "outputs": [],
   "source": [
    "sun = get_body_heliographic_stonyhurst('sun', time).transform_to(location_frame)\n",
    "moon = get_body_heliographic_stonyhurst('moon', time).transform_to(location_frame)"
   ]
  },
  {
   "cell_type": "code",
   "execution_count": 5,
   "metadata": {
    "collapsed": true
   },
   "outputs": [],
   "source": [
    "regulus = SkyCoord(ra='10h08m22.311s', dec='11d58m01.95s', frame='icrs').transform_to(location_frame)\n",
    "mercury = get_body_heliographic_stonyhurst('mercury', time).transform_to(location_frame)\n",
    "mars = get_body_heliographic_stonyhurst('mars', time).transform_to(location_frame)"
   ]
  },
  {
   "cell_type": "code",
   "execution_count": 8,
   "metadata": {
    "collapsed": false
   },
   "outputs": [
    {
     "data": {
      "image/png": "[encoded data removed]",
      "text/plain": [
       "<matplotlib.figure.Figure at 0x112a0f898>"
      ]
     },
     "metadata": {},
     "output_type": "display_data"
    }
   ],
   "source": [
    "plt.plot(sun.az, sun.alt, 'o', color='yellow', label='Sun');\n",
    "plt.plot(moon.az, moon.alt, 'o', color='black', label='Moon');\n",
    "\n",
    "plt.plot(regulus.az, regulus.alt, '.', color='green', label='Regulus');\n",
    "plt.plot(mercury.az, mercury.alt, '.', color='blue', label='Mercury');\n",
    "plt.plot(mars.az, mars.alt, '.', color='red', label='Mars');\n",
    "\n",
    "plt.title(time + ' UT');\n",
    "plt.xlabel('Azimuth (deg)');\n",
    "plt.ylabel('Elevation (deg)');\n",
    "plt.legend(loc=4);\n",
    "\n",
    "plt.show()"
   ]
  },
  {
   "cell_type": "code",
   "execution_count": null,
   "metadata": {
    "collapsed": true
   },
   "outputs": [],
   "source": []
  }
 ],
 "metadata": {
  "kernelspec": {
   "display_name": "Python [conda root]",
   "language": "python",
   "name": "conda-root-py"
  },
  "language_info": {
   "codemirror_mode": {
    "name": "ipython",
    "version": 3
   },
   "file_extension": ".py",
   "mimetype": "text/x-python",
   "name": "python",
   "nbconvert_exporter": "python",
   "pygments_lexer": "ipython3",
   "version": "3.5.2"
  }
 },
 "nbformat": 4,
 "nbformat_minor": 2
}
