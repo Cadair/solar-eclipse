{
  "metadata": {
    "language_info": {
      "codemirror_mode": {
        "name": "ipython",
        "version": 3
      },
      "pygments_lexer": "ipython3",
      "version": "3.5.2",
      "file_extension": ".py",
      "mimetype": "text/x-python",
      "name": "python",
      "nbconvert_exporter": "python"
    },
    "kernelspec": {
      "display_name": "Python 3",
      "language": "python",
      "name": "python3"
    }
  },
  "nbformat": 4,
  "cells": [
    {
      "source": [
        "%matplotlib inline"
      ],
      "cell_type": "code",
      "outputs": [],
      "execution_count": null,
      "metadata": {
        "collapsed": false
      }
    },
    {
      "source": [
        "\nAIA Plot Example\n================\n\nThis is a very simple way to plot a sample AIA image.\nasdfasdfasd\nasdf\nasdf\nasdf\nasdf\nasd\nfads\n\n"
      ],
      "cell_type": "markdown",
      "metadata": {}
    },
    {
      "source": [
        "from __future__ import print_function, division\n\nimport matplotlib\nimport matplotlib.pyplot as plt\nimport numpy as np\n\nfrom eclipse import SAMPLE_PHOTO"
      ],
      "cell_type": "code",
      "outputs": [],
      "execution_count": null,
      "metadata": {
        "collapsed": false
      }
    },
    {
      "source": [
        "read in the image and flip it so that it's correct\n\n"
      ],
      "cell_type": "markdown",
      "metadata": {}
    },
    {
      "source": [
        "im_rgb = np.flipud(matplotlib.image.imread(SAMPLE_PHOTO))\n# remove color info\nim = np.average(im_rgb, axis=2)\nplt.imshow(im, origin='lower')\nplt.show()"
      ],
      "cell_type": "code",
      "outputs": [],
      "execution_count": null,
      "metadata": {
        "collapsed": false
      }
    }
  ],
  "nbformat_minor": 0
}